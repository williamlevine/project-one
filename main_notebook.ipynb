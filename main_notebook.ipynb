{
 "cells": [
  {
   "cell_type": "markdown",
   "id": "34151aa0-6c1e-40ee-948c-440f10ff2d0a",
   "metadata": {},
   "source": [
    "## Title Cell"
   ]
  },
  {
   "cell_type": "code",
   "execution_count": 3,
   "id": "d24a813f-0526-4fe5-9826-d70e9c263fdd",
   "metadata": {},
   "outputs": [],
   "source": [
    "# Import dependencies\n",
    "import pandas as pd\n",
    "import os\n",
    "import matplotlib.pyplot as plt\n",
    "import numpy as np"
   ]
  },
  {
   "cell_type": "code",
   "execution_count": 4,
   "id": "9d6c0d89-b04f-45ba-a427-ea2318ad41b5",
   "metadata": {},
   "outputs": [
    {
     "data": {
      "text/plain": [
       "Index(['Diabetes_012', 'HighBP', 'HighChol', 'CholCheck', 'BMI', 'Smoker',\n",
       "       'Stroke', 'HeartDiseaseorAttack', 'PhysActivity', 'Fruits', 'Veggies',\n",
       "       'HvyAlcoholConsump', 'AnyHealthcare', 'NoDocbcCost', 'GenHlth',\n",
       "       'MentHlth', 'PhysHlth', 'DiffWalk', 'Sex', 'Age', 'Education',\n",
       "       'Income'],\n",
       "      dtype='object')"
      ]
     },
     "execution_count": 4,
     "metadata": {},
     "output_type": "execute_result"
    }
   ],
   "source": [
    "# Import csv, convert to a dataframe. List the columns so we know how to clean it up\n",
    "diabetes_csv = pd.read_csv(\"source_data/diabetes_indicators.csv\")\n",
    "diabetes_df = pd.DataFrame(diabetes_csv)\n",
    "diabetes_df.columns"
   ]
  },
  {
   "cell_type": "markdown",
   "id": "d37bd642-ca9a-4137-8bbc-a77508c055bd",
   "metadata": {},
   "source": [
    "## William"
   ]
  },
  {
   "cell_type": "code",
   "execution_count": 6,
   "id": "b6214a8f-181e-4435-9a0a-1a956816eade",
   "metadata": {},
   "outputs": [
    {
     "data": {
      "text/html": [
       "<div>\n",
       "<style scoped>\n",
       "    .dataframe tbody tr th:only-of-type {\n",
       "        vertical-align: middle;\n",
       "    }\n",
       "\n",
       "    .dataframe tbody tr th {\n",
       "        vertical-align: top;\n",
       "    }\n",
       "\n",
       "    .dataframe thead th {\n",
       "        text-align: right;\n",
       "    }\n",
       "</style>\n",
       "<table border=\"1\" class=\"dataframe\">\n",
       "  <thead>\n",
       "    <tr style=\"text-align: right;\">\n",
       "      <th></th>\n",
       "      <th>Diabetes_012</th>\n",
       "      <th>Income</th>\n",
       "      <th>Education</th>\n",
       "      <th>Age</th>\n",
       "      <th>HvyAlcoholConsump</th>\n",
       "      <th>Fruits</th>\n",
       "      <th>Veggies</th>\n",
       "      <th>CholCheck</th>\n",
       "      <th>HighChol</th>\n",
       "      <th>PhysActivity</th>\n",
       "      <th>BMI</th>\n",
       "    </tr>\n",
       "  </thead>\n",
       "  <tbody>\n",
       "    <tr>\n",
       "      <th>0</th>\n",
       "      <td>0.0</td>\n",
       "      <td>3.0</td>\n",
       "      <td>4.0</td>\n",
       "      <td>9.0</td>\n",
       "      <td>0.0</td>\n",
       "      <td>0.0</td>\n",
       "      <td>1.0</td>\n",
       "      <td>1.0</td>\n",
       "      <td>1.0</td>\n",
       "      <td>0.0</td>\n",
       "      <td>40.0</td>\n",
       "    </tr>\n",
       "    <tr>\n",
       "      <th>1</th>\n",
       "      <td>0.0</td>\n",
       "      <td>1.0</td>\n",
       "      <td>6.0</td>\n",
       "      <td>7.0</td>\n",
       "      <td>0.0</td>\n",
       "      <td>0.0</td>\n",
       "      <td>0.0</td>\n",
       "      <td>0.0</td>\n",
       "      <td>0.0</td>\n",
       "      <td>1.0</td>\n",
       "      <td>25.0</td>\n",
       "    </tr>\n",
       "    <tr>\n",
       "      <th>2</th>\n",
       "      <td>0.0</td>\n",
       "      <td>8.0</td>\n",
       "      <td>4.0</td>\n",
       "      <td>9.0</td>\n",
       "      <td>0.0</td>\n",
       "      <td>1.0</td>\n",
       "      <td>0.0</td>\n",
       "      <td>1.0</td>\n",
       "      <td>1.0</td>\n",
       "      <td>0.0</td>\n",
       "      <td>28.0</td>\n",
       "    </tr>\n",
       "    <tr>\n",
       "      <th>3</th>\n",
       "      <td>0.0</td>\n",
       "      <td>6.0</td>\n",
       "      <td>3.0</td>\n",
       "      <td>11.0</td>\n",
       "      <td>0.0</td>\n",
       "      <td>1.0</td>\n",
       "      <td>1.0</td>\n",
       "      <td>1.0</td>\n",
       "      <td>0.0</td>\n",
       "      <td>1.0</td>\n",
       "      <td>27.0</td>\n",
       "    </tr>\n",
       "    <tr>\n",
       "      <th>4</th>\n",
       "      <td>0.0</td>\n",
       "      <td>4.0</td>\n",
       "      <td>5.0</td>\n",
       "      <td>11.0</td>\n",
       "      <td>0.0</td>\n",
       "      <td>1.0</td>\n",
       "      <td>1.0</td>\n",
       "      <td>1.0</td>\n",
       "      <td>1.0</td>\n",
       "      <td>1.0</td>\n",
       "      <td>24.0</td>\n",
       "    </tr>\n",
       "  </tbody>\n",
       "</table>\n",
       "</div>"
      ],
      "text/plain": [
       "   Diabetes_012  Income  Education   Age  HvyAlcoholConsump  Fruits  Veggies  \\\n",
       "0           0.0     3.0        4.0   9.0                0.0     0.0      1.0   \n",
       "1           0.0     1.0        6.0   7.0                0.0     0.0      0.0   \n",
       "2           0.0     8.0        4.0   9.0                0.0     1.0      0.0   \n",
       "3           0.0     6.0        3.0  11.0                0.0     1.0      1.0   \n",
       "4           0.0     4.0        5.0  11.0                0.0     1.0      1.0   \n",
       "\n",
       "   CholCheck  HighChol  PhysActivity   BMI  \n",
       "0        1.0       1.0           0.0  40.0  \n",
       "1        0.0       0.0           1.0  25.0  \n",
       "2        1.0       1.0           0.0  28.0  \n",
       "3        1.0       0.0           1.0  27.0  \n",
       "4        1.0       1.0           1.0  24.0  "
      ]
     },
     "execution_count": 6,
     "metadata": {},
     "output_type": "execute_result"
    }
   ],
   "source": [
    "# Trim the dataframe so it is only our variables of interest\n",
    "df_trimmed = diabetes_df[[\"Diabetes_012\", \"Income\", \"Education\", \"Age\", \"HvyAlcoholConsump\", \"Fruits\", \"Veggies\", \"CholCheck\", \"HighChol\", \"PhysActivity\", \"BMI\"]].copy()\n",
    "df_trimmed.head()"
   ]
  },
  {
   "cell_type": "code",
   "execution_count": 7,
   "id": "047dd19a-7ccc-4dcf-9b05-e2ebe9b15cce",
   "metadata": {},
   "outputs": [
    {
     "data": {
      "text/html": [
       "<div>\n",
       "<style scoped>\n",
       "    .dataframe tbody tr th:only-of-type {\n",
       "        vertical-align: middle;\n",
       "    }\n",
       "\n",
       "    .dataframe tbody tr th {\n",
       "        vertical-align: top;\n",
       "    }\n",
       "\n",
       "    .dataframe thead th {\n",
       "        text-align: right;\n",
       "    }\n",
       "</style>\n",
       "<table border=\"1\" class=\"dataframe\">\n",
       "  <thead>\n",
       "    <tr style=\"text-align: right;\">\n",
       "      <th></th>\n",
       "      <th>Fruits</th>\n",
       "      <th>Diabetes_012</th>\n",
       "      <th>count</th>\n",
       "      <th>proportion</th>\n",
       "    </tr>\n",
       "  </thead>\n",
       "  <tbody>\n",
       "    <tr>\n",
       "      <th>0</th>\n",
       "      <td>0.0</td>\n",
       "      <td>0.0</td>\n",
       "      <td>76287</td>\n",
       "      <td>82.221767</td>\n",
       "    </tr>\n",
       "    <tr>\n",
       "      <th>1</th>\n",
       "      <td>0.0</td>\n",
       "      <td>1.0</td>\n",
       "      <td>1842</td>\n",
       "      <td>1.985299</td>\n",
       "    </tr>\n",
       "    <tr>\n",
       "      <th>2</th>\n",
       "      <td>0.0</td>\n",
       "      <td>2.0</td>\n",
       "      <td>14653</td>\n",
       "      <td>15.792934</td>\n",
       "    </tr>\n",
       "    <tr>\n",
       "      <th>3</th>\n",
       "      <td>1.0</td>\n",
       "      <td>0.0</td>\n",
       "      <td>137416</td>\n",
       "      <td>85.405661</td>\n",
       "    </tr>\n",
       "    <tr>\n",
       "      <th>4</th>\n",
       "      <td>1.0</td>\n",
       "      <td>1.0</td>\n",
       "      <td>2789</td>\n",
       "      <td>1.733396</td>\n",
       "    </tr>\n",
       "    <tr>\n",
       "      <th>5</th>\n",
       "      <td>1.0</td>\n",
       "      <td>2.0</td>\n",
       "      <td>20693</td>\n",
       "      <td>12.860943</td>\n",
       "    </tr>\n",
       "  </tbody>\n",
       "</table>\n",
       "</div>"
      ],
      "text/plain": [
       "   Fruits  Diabetes_012   count  proportion\n",
       "0     0.0           0.0   76287   82.221767\n",
       "1     0.0           1.0    1842    1.985299\n",
       "2     0.0           2.0   14653   15.792934\n",
       "3     1.0           0.0  137416   85.405661\n",
       "4     1.0           1.0    2789    1.733396\n",
       "5     1.0           2.0   20693   12.860943"
      ]
     },
     "execution_count": 7,
     "metadata": {},
     "output_type": "execute_result"
    }
   ],
   "source": [
    "# Group by fruit consumption and diabetes status, count the number of participants for each category\n",
    "dia_fruits = df_trimmed.groupby([\"Fruits\", \"Diabetes_012\"]).size().reset_index(name='count')\n",
    "\n",
    "# ***(I think we could also use a .loc here to make it easier - but this works)***\n",
    "# Separate 0 fruit values from 1 fruit values, copying the tables so we can easily perform actions on them\n",
    "nofruits = dia_fruits[dia_fruits[\"Fruits\"] == 0].copy()\n",
    "yesfruits = dia_fruits[dia_fruits[\"Fruits\"] == 1].copy()\n",
    "\n",
    "# Find the total respondents per category (fruit and no fruit)\n",
    "# Create a new column for the proportion of respondents in each row out of their respective category\n",
    "nofruits_sum = nofruits[\"count\"].sum()\n",
    "nofruits[\"proportion\"] = (nofruits[\"count\"] / nofruits_sum) * 100\n",
    "\n",
    "yesfruits_sum = yesfruits[\"count\"].sum()\n",
    "yesfruits[\"proportion\"] = (yesfruits[\"count\"] / yesfruits_sum) * 100\n",
    "\n",
    "# Using the pd.concat() function, combine the two tables into the new fruitstack df, which shows the proportions\n",
    "fruitstack = pd.concat([nofruits, yesfruits], ignore_index=False)\n",
    "fruitstack"
   ]
  },
  {
   "cell_type": "code",
   "execution_count": 8,
   "id": "35e148f3-bfed-40c6-91d9-71845c6b600e",
   "metadata": {},
   "outputs": [
    {
     "data": {
      "image/png": "[encoded data removed]",
      "text/plain": [
       "<Figure size 1000x600 with 1 Axes>"
      ]
     },
     "metadata": {},
     "output_type": "display_data"
    }
   ],
   "source": [
    "# Set up pivot table to reorganize fruitstack df\n",
    "pivot_df = fruitstack.pivot(index='Fruits', columns='Diabetes_012', values='proportion')\n",
    "\n",
    "# Rename columns for easy display formatting\n",
    "pivot_df.columns = ['No Diabetes', 'Prediabetes', 'Diabetes']\n",
    "\n",
    "# Rename indices for easy display formatting\n",
    "index_mapping = {0.0: 'Consume fruit less than once per day', 1.0: 'Consume fruit once or more per day'}\n",
    "pivot_df.index = pivot_df.index.map(index_mapping)\n",
    "\n",
    "# Plot the table\n",
    "pivot_df.plot(kind='bar', figsize=(10, 6))\n",
    "plt.title('Proportion of Respondents with Diabetes\\n(Non-fruit consumers vs. fruit consumers)')\n",
    "plt.xlabel('Fruits')\n",
    "plt.ylabel('Percentage')\n",
    "plt.xticks(ticks=range(len(pivot_df.index)), labels=pivot_df.index, rotation=0)\n",
    "plt.legend(title='Diabetes Status', title_fontsize='13')\n",
    "plt.grid(axis='y', linestyle='--', alpha=0.7)\n",
    "plt.tight_layout()\n",
    "plt.show()"
   ]
  },
  {
   "cell_type": "code",
   "execution_count": null,
   "id": "2f99d369-0f7f-4286-8f4f-50e3ef17368e",
   "metadata": {},
   "outputs": [],
   "source": []
  },
  {
   "cell_type": "code",
   "execution_count": null,
   "id": "16c8f9e0-f252-42b4-b2d9-bee22a8b566a",
   "metadata": {},
   "outputs": [],
   "source": []
  },
  {
   "cell_type": "code",
   "execution_count": null,
   "id": "b13886bd-1984-4cf4-b0a7-6eee7d47b42d",
   "metadata": {},
   "outputs": [],
   "source": []
  },
  {
   "cell_type": "code",
   "execution_count": null,
   "id": "a3189fc7-6d6f-4c8a-b2c2-6e7db2c9273f",
   "metadata": {},
   "outputs": [],
   "source": []
  },
  {
   "cell_type": "code",
   "execution_count": null,
   "id": "7b548bbb-6970-4d26-84f8-6ffeb8ec02b4",
   "metadata": {},
   "outputs": [],
   "source": []
  },
  {
   "cell_type": "code",
   "execution_count": null,
   "id": "b6e95fff-2154-426f-8d82-b895407d1104",
   "metadata": {},
   "outputs": [],
   "source": []
  },
  {
   "cell_type": "code",
   "execution_count": null,
   "id": "f4515027-7c59-4b8a-848c-5cd37c7c2c19",
   "metadata": {},
   "outputs": [],
   "source": []
  },
  {
   "cell_type": "code",
   "execution_count": null,
   "id": "2bb614d0-4524-4505-acc4-c75cc7df98dd",
   "metadata": {},
   "outputs": [],
   "source": []
  },
  {
   "cell_type": "code",
   "execution_count": null,
   "id": "3ca4e034-af56-4ec7-ac7b-5023d5e68b1e",
   "metadata": {},
   "outputs": [],
   "source": []
  },
  {
   "cell_type": "code",
   "execution_count": null,
   "id": "c38b264c-bfd1-4360-ac8c-9d3725878615",
   "metadata": {},
   "outputs": [],
   "source": []
  },
  {
   "cell_type": "code",
   "execution_count": null,
   "id": "bd5ecf47-3145-4462-b45b-59f1fc8b42aa",
   "metadata": {},
   "outputs": [],
   "source": []
  },
  {
   "cell_type": "code",
   "execution_count": null,
   "id": "52685ba6-5023-4213-8d0b-413e262ef8a0",
   "metadata": {},
   "outputs": [],
   "source": []
  },
  {
   "cell_type": "code",
   "execution_count": null,
   "id": "e9b2323c-f175-49ff-abfd-e36c349ff901",
   "metadata": {},
   "outputs": [],
   "source": []
  },
  {
   "cell_type": "code",
   "execution_count": null,
   "id": "a9b109b0-5228-4b3b-ada9-7b992ff26263",
   "metadata": {},
   "outputs": [],
   "source": []
  },
  {
   "cell_type": "code",
   "execution_count": null,
   "id": "53a36f5c-0cec-4ec4-9d28-3738da4cf29b",
   "metadata": {},
   "outputs": [],
   "source": []
  },
  {
   "cell_type": "code",
   "execution_count": null,
   "id": "4442754c-5ea3-45b1-a1bc-0b082bed3f2b",
   "metadata": {},
   "outputs": [],
   "source": []
  },
  {
   "cell_type": "code",
   "execution_count": null,
   "id": "bb665500-5a2e-4b65-95e5-d8e9ec994ee9",
   "metadata": {},
   "outputs": [],
   "source": []
  },
  {
   "cell_type": "code",
   "execution_count": null,
   "id": "449095f3-684d-4270-bbfa-90126dacab4f",
   "metadata": {},
   "outputs": [],
   "source": []
  },
  {
   "cell_type": "code",
   "execution_count": null,
   "id": "239b5628-ff6c-436e-b9e6-31499c22649c",
   "metadata": {},
   "outputs": [],
   "source": []
  },
  {
   "cell_type": "code",
   "execution_count": null,
   "id": "f8403dc9-f4e7-4195-87d9-b240ecfbb422",
   "metadata": {},
   "outputs": [],
   "source": []
  },
  {
   "cell_type": "code",
   "execution_count": null,
   "id": "1b3a4cdb-1043-483c-9dbc-c7593cd96dae",
   "metadata": {},
   "outputs": [],
   "source": []
  },
  {
   "cell_type": "markdown",
   "id": "edb7a1b4-a2fe-42c1-a3d1-13b74c37254a",
   "metadata": {},
   "source": [
    "## Chinna"
   ]
  },
  {
   "cell_type": "code",
   "execution_count": 10,
   "id": "bbc7bc3d-b717-45d2-9b5c-cf5eca70a796",
   "metadata": {},
   "outputs": [
    {
     "data": {
      "text/html": [
       "<div>\n",
       "<style scoped>\n",
       "    .dataframe tbody tr th:only-of-type {\n",
       "        vertical-align: middle;\n",
       "    }\n",
       "\n",
       "    .dataframe tbody tr th {\n",
       "        vertical-align: top;\n",
       "    }\n",
       "\n",
       "    .dataframe thead th {\n",
       "        text-align: right;\n",
       "    }\n",
       "</style>\n",
       "<table border=\"1\" class=\"dataframe\">\n",
       "  <thead>\n",
       "    <tr style=\"text-align: right;\">\n",
       "      <th></th>\n",
       "      <th>PhysActivity</th>\n",
       "      <th>Diabetes_012</th>\n",
       "      <th>count</th>\n",
       "      <th>proportion</th>\n",
       "    </tr>\n",
       "  </thead>\n",
       "  <tbody>\n",
       "    <tr>\n",
       "      <th>0</th>\n",
       "      <td>0.0</td>\n",
       "      <td>0.0</td>\n",
       "      <td>47212</td>\n",
       "      <td>76.444301</td>\n",
       "    </tr>\n",
       "    <tr>\n",
       "      <th>1</th>\n",
       "      <td>0.0</td>\n",
       "      <td>1.0</td>\n",
       "      <td>1489</td>\n",
       "      <td>2.410946</td>\n",
       "    </tr>\n",
       "    <tr>\n",
       "      <th>2</th>\n",
       "      <td>0.0</td>\n",
       "      <td>2.0</td>\n",
       "      <td>13059</td>\n",
       "      <td>21.144754</td>\n",
       "    </tr>\n",
       "    <tr>\n",
       "      <th>3</th>\n",
       "      <td>1.0</td>\n",
       "      <td>0.0</td>\n",
       "      <td>166491</td>\n",
       "      <td>86.750208</td>\n",
       "    </tr>\n",
       "    <tr>\n",
       "      <th>4</th>\n",
       "      <td>1.0</td>\n",
       "      <td>1.0</td>\n",
       "      <td>3142</td>\n",
       "      <td>1.637140</td>\n",
       "    </tr>\n",
       "    <tr>\n",
       "      <th>5</th>\n",
       "      <td>1.0</td>\n",
       "      <td>2.0</td>\n",
       "      <td>22287</td>\n",
       "      <td>11.612651</td>\n",
       "    </tr>\n",
       "  </tbody>\n",
       "</table>\n",
       "</div>"
      ],
      "text/plain": [
       "   PhysActivity  Diabetes_012   count  proportion\n",
       "0           0.0           0.0   47212   76.444301\n",
       "1           0.0           1.0    1489    2.410946\n",
       "2           0.0           2.0   13059   21.144754\n",
       "3           1.0           0.0  166491   86.750208\n",
       "4           1.0           1.0    3142    1.637140\n",
       "5           1.0           2.0   22287   11.612651"
      ]
     },
     "execution_count": 10,
     "metadata": {},
     "output_type": "execute_result"
    }
   ],
   "source": [
    "# Group by PhysActivity and diabetes status, count the number of participants for each category\n",
    "dia_PhysActivity = df_trimmed.groupby([\"PhysActivity\", \"Diabetes_012\"]).size().reset_index(name='count')\n",
    "\n",
    "# ***(I think we could also use a .loc here to make it easier - but this works)***\n",
    "# Separate 0 fruit values from 1 fruit values, copying the tables so we can easily perform actions on them\n",
    "no_PhysActivity = dia_PhysActivity[dia_PhysActivity[\"PhysActivity\"] == 0].copy()\n",
    "yes_PhysActivity = dia_PhysActivity[dia_PhysActivity[\"PhysActivity\"] == 1].copy()\n",
    "\n",
    "# Find the total respondents per category (PhysActivity and no PhysActivity)\n",
    "# Create a new column for the proportion of respondents in each row out of their respective category\n",
    "no_PhysActivity_sum = no_PhysActivity[\"count\"].sum()\n",
    "no_PhysActivity[\"proportion\"] = (no_PhysActivity[\"count\"] / no_PhysActivity_sum) * 100\n",
    "\n",
    "yes_PhysActivity_sum = yes_PhysActivity[\"count\"].sum()\n",
    "yes_PhysActivity[\"proportion\"] = (yes_PhysActivity[\"count\"] / yes_PhysActivity_sum) * 100\n",
    "\n",
    "# Using the pd.concat() function, combine the two tables into the new PhysActivity df, which shows the proportions\n",
    "PhysActivitystack = pd.concat([no_PhysActivity, yes_PhysActivity], ignore_index=False)\n",
    "PhysActivitystack"
   ]
  },
  {
   "cell_type": "code",
   "execution_count": 11,
   "id": "33c81653-7827-4091-a048-f0cf80a2c166",
   "metadata": {},
   "outputs": [
    {
     "data": {
      "image/png": "[encoded data removed]",
      "text/plain": [
       "<Figure size 1000x600 with 1 Axes>"
      ]
     },
     "metadata": {},
     "output_type": "display_data"
    }
   ],
   "source": [
    "# Set up pivot table to reorganize fruitstack df\n",
    "PhysActivity_pivot_df = PhysActivitystack.pivot(index='PhysActivity', columns='Diabetes_012', values='proportion')\n",
    "\n",
    "# Rename columns for easy display formatting\n",
    "PhysActivity_pivot_df.columns = ['No Diabetes', 'Prediabetes', 'Diabetes']\n",
    "\n",
    "# Rename indices for easy display formatting\n",
    "index_mapping = {0.0: 'No exercise during the last month', 1.0: 'Exercise during the last month'}\n",
    "PhysActivity_pivot_df.index = PhysActivity_pivot_df.index.map(index_mapping)\n",
    "\n",
    "# Plot the table\n",
    "colors = ['#78909c','#616161', '#cacaca']\n",
    "PhysActivity_pivot_df.plot(kind='bar', figsize=(10, 6), color=colors)\n",
    "plt.title('Proportion of Respondents with Diabetes\\n(Non-PhysActivity vs. PhysActivity)')\n",
    "plt.xlabel('PhysActivity')\n",
    "plt.ylabel('Percentage')\n",
    "plt.xticks(ticks=range(len(PhysActivity_pivot_df.index)), labels=PhysActivity_pivot_df.index, rotation=0)\n",
    "plt.legend(title='Diabetes Status', title_fontsize='13')\n",
    "plt.grid(axis='y', linestyle='--', alpha=0.7)\n",
    "plt.tight_layout()\n",
    "plt.show()"
   ]
  },
  {
   "cell_type": "code",
   "execution_count": 48,
   "id": "dfcb721f-993c-4060-b110-99e41c39a81c",
   "metadata": {},
   "outputs": [
    {
     "data": {
      "image/png": "[encoded data removed]",
      "text/plain": [
       "<Figure size 1800x600 with 3 Axes>"
      ]
     },
     "metadata": {},
     "output_type": "display_data"
    }
   ],
   "source": [
    "# Example DataFrame setup for demonstration\n",
    "# Assuming PhysActivity_pivot_df is your DataFrame\n",
    "# PhysActivity_pivot_df = ...\n",
    "\n",
    "fig, axes = plt.subplots(1, 3, figsize=(18, 6))\n",
    "\n",
    "# Define colors\n",
    "colors = ['#78909c', '#616161', '#cacaca']\n",
    "\n",
    "for i, column in enumerate(PhysActivity_pivot_df.columns):\n",
    "    wedges, texts, autotexts = axes[i].pie(\n",
    "        PhysActivity_pivot_df[column],\n",
    "        labels=PhysActivity_pivot_df.index,\n",
    "        autopct='%1.1f%%',\n",
    "        startangle=140,\n",
    "        colors=colors[:len(PhysActivity_pivot_df.index)]  # Adjust colors to match number of slices\n",
    "    )\n",
    "    axes[i].set_title(column, fontsize=16, color='black')  # Title font size and color\n",
    "\n",
    "    # Adjust font size and color for pie chart labels and percentages\n",
    "    for text in texts:\n",
    "        text.set_fontsize(12)\n",
    "        text.set_color('black')  # Set color of pie chart labels\n",
    "    for autotext in autotexts:\n",
    "        autotext.set_fontsize(14)\n",
    "        autotext.set_color('white')  # Set color of percentages\n",
    "\n",
    "plt.suptitle('Proportion of Respondents with Diabetes by PhysActivity Status', fontsize=18)\n",
    "\n",
    "\n",
    "plt.tight_layout()\n",
    "plt.show()\n"
   ]
  },
  {
   "cell_type": "code",
   "execution_count": 53,
   "id": "6a86bb32-fbbe-41c0-bc0b-6cad5911571b",
   "metadata": {},
   "outputs": [
    {
     "data": {
      "image/png": "[encoded data removed]",
      "text/plain": [
       "<Figure size 1000x600 with 1 Axes>"
      ]
     },
     "metadata": {},
     "output_type": "display_data"
    }
   ],
   "source": [
    "data = {\n",
    "    'No Diabetes': [20, 30],\n",
    "    'Prediabetes': [15, 25],\n",
    "    'Diabetes': [10, 20]\n",
    "}\n",
    "PhysActivity_pivot_df = pd.DataFrame(data, index=['No exercise during the last month', 'Exercise during the last month'])\n",
    "\n",
    "# Define colors for each segment\n",
    "colors = ['#78909c', '#616161', '#cacaca']\n",
    "\n",
    "# Plotting the stacked bar chart\n",
    "ax = PhysActivity_pivot_df.plot(kind='bar', stacked=True, figsize=(10, 6), color=colors)\n",
    "\n",
    "# Customize the chart\n",
    "plt.title('Proportion of Respondents with Diabetes by PhysActivity Status')\n",
    "plt.xlabel('PhysActivity')\n",
    "plt.ylabel('Percentage')\n",
    "plt.xticks(ticks=range(len(PhysActivity_pivot_df.index)), labels=PhysActivity_pivot_df.index, rotation=0)\n",
    "plt.legend(title='Diabetes Status', title_fontsize='13', fontsize='11')\n",
    "plt.grid(axis='y', linestyle='--', alpha=0.7)\n",
    "plt.tight_layout()\n",
    "\n",
    "# Show the plot\n",
    "plt.show()"
   ]
  },
  {
   "cell_type": "code",
   "execution_count": 55,
   "id": "c797237a-caf3-40aa-a949-10c45971bb68",
   "metadata": {},
   "outputs": [
    {
     "data": {
      "image/png": "[encoded data removed]",
      "text/plain": [
       "<Figure size 1800x600 with 3 Axes>"
      ]
     },
     "metadata": {},
     "output_type": "display_data"
    }
   ],
   "source": [
    "#Doughnut Chart \n",
    "fig, axes = plt.subplots(1, 3, figsize=(18, 6))\n",
    "colors = ['#78909c','#616161', '#cacaca']\n",
    "for i, column in enumerate(PhysActivity_pivot_df.columns):\n",
    "    wedges, texts, autotexts = axes[i].pie(PhysActivity_pivot_df[column], labels=PhysActivity_pivot_df.index, autopct='%1.1f%%', startangle=140, wedgeprops=dict(width=0.4), colors=colors)\n",
    "    axes[i].set_title(column)\n",
    "\n",
    "plt.suptitle('Proportion of Respondents with Diabetes by PhysActivity Status')\n",
    "plt.tight_layout()\n",
    "plt.show()"
   ]
  },
  {
   "cell_type": "code",
   "execution_count": null,
   "id": "055affbe-027d-4d44-b6d9-e644b1a62036",
   "metadata": {},
   "outputs": [],
   "source": []
  },
  {
   "cell_type": "code",
   "execution_count": null,
   "id": "40e7d707-1dcd-4c56-8b11-84e39fe29bfb",
   "metadata": {},
   "outputs": [],
   "source": []
  },
  {
   "cell_type": "code",
   "execution_count": null,
   "id": "02479968-1a57-4acf-90d9-ef1ca39ae6d6",
   "metadata": {},
   "outputs": [],
   "source": []
  },
  {
   "cell_type": "code",
   "execution_count": null,
   "id": "900f5eb0-8916-4e80-b715-b832421e6145",
   "metadata": {},
   "outputs": [],
   "source": []
  },
  {
   "cell_type": "code",
   "execution_count": null,
   "id": "1127f309-7bbe-48de-be1d-2dade6aad786",
   "metadata": {},
   "outputs": [],
   "source": []
  },
  {
   "cell_type": "code",
   "execution_count": null,
   "id": "dda33d39-2c61-4eaa-9ee5-e84fa2fa7e7e",
   "metadata": {},
   "outputs": [],
   "source": []
  },
  {
   "cell_type": "code",
   "execution_count": null,
   "id": "bfb0f241-dd39-422a-bbf5-76df35a2a2a8",
   "metadata": {},
   "outputs": [],
   "source": []
  },
  {
   "cell_type": "code",
   "execution_count": null,
   "id": "ce81f637-9062-4354-962e-e80787e61bff",
   "metadata": {},
   "outputs": [],
   "source": []
  },
  {
   "cell_type": "code",
   "execution_count": null,
   "id": "8f5234c6-e8a9-461d-9647-757470319505",
   "metadata": {},
   "outputs": [],
   "source": []
  },
  {
   "cell_type": "code",
   "execution_count": null,
   "id": "cef8fc18-f366-42a2-80fa-1c68c3854da5",
   "metadata": {},
   "outputs": [],
   "source": []
  },
  {
   "cell_type": "code",
   "execution_count": null,
   "id": "013287f9-65bf-4aed-a4f4-c058c3e3fa37",
   "metadata": {},
   "outputs": [],
   "source": []
  },
  {
   "cell_type": "code",
   "execution_count": null,
   "id": "fbd25113-3bb3-4786-8e8a-ef4be1a3b88a",
   "metadata": {},
   "outputs": [],
   "source": []
  },
  {
   "cell_type": "code",
   "execution_count": null,
   "id": "d734377b-e984-45dd-96ab-0b07664d9159",
   "metadata": {},
   "outputs": [],
   "source": []
  },
  {
   "cell_type": "code",
   "execution_count": null,
   "id": "7427e819-69ba-438d-a580-b7464751a142",
   "metadata": {},
   "outputs": [],
   "source": []
  },
  {
   "cell_type": "code",
   "execution_count": null,
   "id": "f0ee8907-640b-4184-b281-d9241e77d42a",
   "metadata": {},
   "outputs": [],
   "source": []
  },
  {
   "cell_type": "code",
   "execution_count": null,
   "id": "700c26d6-54ec-476b-be2e-8ba4fb3df395",
   "metadata": {},
   "outputs": [],
   "source": []
  },
  {
   "cell_type": "code",
   "execution_count": null,
   "id": "fe30ba34-bbcc-47fe-aa9b-b5258ae63721",
   "metadata": {},
   "outputs": [],
   "source": []
  },
  {
   "cell_type": "code",
   "execution_count": null,
   "id": "22f19988-d556-48b5-bf5b-a375822d4b04",
   "metadata": {},
   "outputs": [],
   "source": []
  },
  {
   "cell_type": "code",
   "execution_count": null,
   "id": "380159f8-5b89-4b46-8dae-42f7a4caa9ad",
   "metadata": {},
   "outputs": [],
   "source": []
  },
  {
   "cell_type": "code",
   "execution_count": null,
   "id": "8fe62911-8ae8-42dc-a097-3156fb71da22",
   "metadata": {},
   "outputs": [],
   "source": []
  },
  {
   "cell_type": "markdown",
   "id": "f3f9dd81-7b6e-44fd-ae90-b50daa408157",
   "metadata": {},
   "source": [
    "## Abigail"
   ]
  },
  {
   "cell_type": "code",
   "execution_count": null,
   "id": "5f892895-6e12-47e2-bcd9-c04a2e3cfbac",
   "metadata": {},
   "outputs": [],
   "source": []
  },
  {
   "cell_type": "code",
   "execution_count": null,
   "id": "9e8e0a5e-bcf9-40c1-acb5-97972648038c",
   "metadata": {},
   "outputs": [],
   "source": []
  },
  {
   "cell_type": "code",
   "execution_count": null,
   "id": "a7de100a-0b35-4d09-8efd-ceada595b46e",
   "metadata": {},
   "outputs": [],
   "source": []
  },
  {
   "cell_type": "code",
   "execution_count": null,
   "id": "3d0d5d5f-2285-445e-a525-daeb00eb0635",
   "metadata": {},
   "outputs": [],
   "source": []
  },
  {
   "cell_type": "code",
   "execution_count": null,
   "id": "9a2be1ec-ccf5-4863-b080-e534836acb1e",
   "metadata": {},
   "outputs": [],
   "source": []
  },
  {
   "cell_type": "code",
   "execution_count": null,
   "id": "c52b1828-ca09-49ae-99fd-f291de2b47b9",
   "metadata": {},
   "outputs": [],
   "source": []
  },
  {
   "cell_type": "code",
   "execution_count": null,
   "id": "fbfa7314-7adb-4670-b773-7433044f6e31",
   "metadata": {},
   "outputs": [],
   "source": []
  },
  {
   "cell_type": "code",
   "execution_count": null,
   "id": "6b49c37b-85f2-473f-90c6-a89a817498b8",
   "metadata": {},
   "outputs": [],
   "source": []
  },
  {
   "cell_type": "code",
   "execution_count": null,
   "id": "ea5b4398-859a-49d0-a952-c30ceef976c5",
   "metadata": {},
   "outputs": [],
   "source": []
  },
  {
   "cell_type": "code",
   "execution_count": null,
   "id": "01552524-0423-4cbb-854e-51ec64a89d8a",
   "metadata": {},
   "outputs": [],
   "source": []
  },
  {
   "cell_type": "code",
   "execution_count": null,
   "id": "4d3d5fbb-34b6-47b7-b019-0835b054ae82",
   "metadata": {},
   "outputs": [],
   "source": []
  },
  {
   "cell_type": "code",
   "execution_count": null,
   "id": "57378096-cee1-4ff6-b146-edc8aa071477",
   "metadata": {},
   "outputs": [],
   "source": []
  },
  {
   "cell_type": "code",
   "execution_count": null,
   "id": "ab0a9299-3097-48dd-bfd4-b0c9b9870a34",
   "metadata": {},
   "outputs": [],
   "source": []
  },
  {
   "cell_type": "code",
   "execution_count": null,
   "id": "3217a407-568a-4e39-ada8-1637a001ad60",
   "metadata": {},
   "outputs": [],
   "source": []
  },
  {
   "cell_type": "code",
   "execution_count": null,
   "id": "9efdfd9a-1738-4d80-a1c7-eb073d4a0984",
   "metadata": {},
   "outputs": [],
   "source": []
  },
  {
   "cell_type": "code",
   "execution_count": null,
   "id": "43ad6927-6f9c-40b3-ab1b-2b56f18acf04",
   "metadata": {},
   "outputs": [],
   "source": []
  },
  {
   "cell_type": "code",
   "execution_count": null,
   "id": "8dd0972e-b326-4d1d-b0ef-dd9134186561",
   "metadata": {},
   "outputs": [],
   "source": []
  },
  {
   "cell_type": "code",
   "execution_count": null,
   "id": "9488292e-f78a-44d8-b0cd-791b4bb3db36",
   "metadata": {},
   "outputs": [],
   "source": []
  },
  {
   "cell_type": "code",
   "execution_count": null,
   "id": "ebc097b3-786d-4bf0-b49f-6cc60ef702ca",
   "metadata": {},
   "outputs": [],
   "source": []
  },
  {
   "cell_type": "code",
   "execution_count": null,
   "id": "ca6c6965-5e6b-4d9c-abee-4e3d482961d0",
   "metadata": {},
   "outputs": [],
   "source": []
  },
  {
   "cell_type": "code",
   "execution_count": null,
   "id": "19d6aeaa-6f64-454f-8bc1-affed6f19be2",
   "metadata": {},
   "outputs": [],
   "source": []
  },
  {
   "cell_type": "code",
   "execution_count": null,
   "id": "81ca27e6-cf60-4618-b878-71605e3882a3",
   "metadata": {},
   "outputs": [],
   "source": []
  },
  {
   "cell_type": "code",
   "execution_count": null,
   "id": "9ff4a0b1-0da5-4c62-87e7-fb6361652155",
   "metadata": {},
   "outputs": [],
   "source": []
  },
  {
   "cell_type": "code",
   "execution_count": null,
   "id": "de3e7c19-2211-462f-b384-e520bb3a8036",
   "metadata": {},
   "outputs": [],
   "source": []
  },
  {
   "cell_type": "code",
   "execution_count": null,
   "id": "7672b63a-b9be-4e7c-a422-22471652c548",
   "metadata": {},
   "outputs": [],
   "source": []
  },
  {
   "cell_type": "markdown",
   "id": "5ac88feb-4bb2-4931-a6f0-3b6f434aac1f",
   "metadata": {},
   "source": [
    "## Muad"
   ]
  },
  {
   "cell_type": "code",
   "execution_count": null,
   "id": "462f8085-8cf7-4b26-8322-bac347c63c0f",
   "metadata": {},
   "outputs": [],
   "source": []
  },
  {
   "cell_type": "code",
   "execution_count": null,
   "id": "971a1644-4c19-48e6-9575-e181f8716a62",
   "metadata": {},
   "outputs": [],
   "source": []
  },
  {
   "cell_type": "code",
   "execution_count": null,
   "id": "e5e54660-8325-4392-a278-bdd3f9e64181",
   "metadata": {},
   "outputs": [],
   "source": []
  },
  {
   "cell_type": "code",
   "execution_count": null,
   "id": "a46965c1-be2d-4c4c-bbd4-63af20269e77",
   "metadata": {},
   "outputs": [],
   "source": []
  },
  {
   "cell_type": "code",
   "execution_count": null,
   "id": "9b17d81f-923f-4e31-bdad-75306b855d5d",
   "metadata": {},
   "outputs": [],
   "source": []
  },
  {
   "cell_type": "code",
   "execution_count": null,
   "id": "09399044-de73-45bb-9e3d-1a6096c16ff8",
   "metadata": {},
   "outputs": [],
   "source": []
  },
  {
   "cell_type": "code",
   "execution_count": null,
   "id": "9b26221d-8b3d-40b6-9ccd-e50c3752ec31",
   "metadata": {},
   "outputs": [],
   "source": []
  },
  {
   "cell_type": "code",
   "execution_count": null,
   "id": "81e67179-a066-4ec8-9f81-2e775d7a1975",
   "metadata": {},
   "outputs": [],
   "source": []
  },
  {
   "cell_type": "code",
   "execution_count": null,
   "id": "0438696a-a7f8-4537-8342-1b2b32ad38aa",
   "metadata": {},
   "outputs": [],
   "source": []
  },
  {
   "cell_type": "code",
   "execution_count": null,
   "id": "fc92b4eb-31ef-403d-a3f6-7a4dfe7f4c24",
   "metadata": {},
   "outputs": [],
   "source": []
  },
  {
   "cell_type": "code",
   "execution_count": null,
   "id": "850348c0-640d-4a76-bd67-624de27745c4",
   "metadata": {},
   "outputs": [],
   "source": []
  },
  {
   "cell_type": "code",
   "execution_count": null,
   "id": "11e9fdab-1ca1-46bc-ac0d-ae327959e9aa",
   "metadata": {},
   "outputs": [],
   "source": []
  },
  {
   "cell_type": "code",
   "execution_count": null,
   "id": "c3f0be0e-64aa-4230-b674-30499173559f",
   "metadata": {},
   "outputs": [],
   "source": []
  },
  {
   "cell_type": "code",
   "execution_count": null,
   "id": "4c922789-6969-434f-9316-b615cad1fd73",
   "metadata": {},
   "outputs": [],
   "source": []
  },
  {
   "cell_type": "code",
   "execution_count": null,
   "id": "8473075a-8c68-4c19-90e0-67b7436742e0",
   "metadata": {},
   "outputs": [],
   "source": []
  },
  {
   "cell_type": "code",
   "execution_count": null,
   "id": "e508ae0c-d411-47d3-8e63-75c8e1d79fab",
   "metadata": {},
   "outputs": [],
   "source": []
  },
  {
   "cell_type": "code",
   "execution_count": null,
   "id": "324e8040-7a0d-4d92-b0f8-b1db93cb5b2a",
   "metadata": {},
   "outputs": [],
   "source": []
  },
  {
   "cell_type": "code",
   "execution_count": null,
   "id": "d3baf85a-01d0-4cc9-9e6e-23de1dc5ffb4",
   "metadata": {},
   "outputs": [],
   "source": []
  },
  {
   "cell_type": "code",
   "execution_count": null,
   "id": "86091863-d022-4fd7-b843-5cbac38d9e13",
   "metadata": {},
   "outputs": [],
   "source": []
  },
  {
   "cell_type": "code",
   "execution_count": null,
   "id": "4c18446c-fc57-4542-8604-b8f490c855ce",
   "metadata": {},
   "outputs": [],
   "source": []
  },
  {
   "cell_type": "code",
   "execution_count": null,
   "id": "3318e399-6fce-45e1-bc97-1ff9268304bf",
   "metadata": {},
   "outputs": [],
   "source": []
  },
  {
   "cell_type": "code",
   "execution_count": null,
   "id": "0a5cb5fa-ec85-4c85-958f-72e38af482aa",
   "metadata": {},
   "outputs": [],
   "source": []
  },
  {
   "cell_type": "code",
   "execution_count": null,
   "id": "c7932098-6ac7-4ee9-8c1f-d1a0b7f7bdfd",
   "metadata": {},
   "outputs": [],
   "source": []
  },
  {
   "cell_type": "code",
   "execution_count": null,
   "id": "101e9b87-75da-4a3f-bb5a-ae34c61c7acc",
   "metadata": {},
   "outputs": [],
   "source": []
  },
  {
   "cell_type": "code",
   "execution_count": null,
   "id": "240df75e-10aa-4ae6-963f-6b8c451e1915",
   "metadata": {},
   "outputs": [],
   "source": []
  },
  {
   "cell_type": "code",
   "execution_count": null,
   "id": "bee3b09f-54a8-4a00-89b6-83de3a6bb2ba",
   "metadata": {},
   "outputs": [],
   "source": []
  },
  {
   "cell_type": "markdown",
   "id": "9a01b4c2-0db4-400b-b02a-1050d96710af",
   "metadata": {},
   "source": [
    "## Sophia"
   ]
  },
  {
   "cell_type": "code",
   "execution_count": null,
   "id": "64e01918-ea5f-4b32-ae5a-c6377989b673",
   "metadata": {},
   "outputs": [],
   "source": []
  },
  {
   "cell_type": "code",
   "execution_count": null,
   "id": "08d016cf-c294-4032-b5f3-022cdf4d05e3",
   "metadata": {},
   "outputs": [],
   "source": []
  },
  {
   "cell_type": "code",
   "execution_count": null,
   "id": "22c00072-d132-4df8-923f-f5c3515763a3",
   "metadata": {},
   "outputs": [],
   "source": []
  },
  {
   "cell_type": "code",
   "execution_count": null,
   "id": "6a7eb299-7be7-4ec3-aee7-b231db66515d",
   "metadata": {},
   "outputs": [],
   "source": []
  },
  {
   "cell_type": "code",
   "execution_count": null,
   "id": "e1bad8f8-9dd2-48ee-af0d-9cb9330dbf19",
   "metadata": {},
   "outputs": [],
   "source": []
  },
  {
   "cell_type": "code",
   "execution_count": null,
   "id": "76b5865d-4b73-4d92-be07-1b9a9189607c",
   "metadata": {},
   "outputs": [],
   "source": []
  },
  {
   "cell_type": "code",
   "execution_count": null,
   "id": "0a8970ef-0ca3-4e57-95da-3ceb7e6c9a44",
   "metadata": {},
   "outputs": [],
   "source": []
  },
  {
   "cell_type": "code",
   "execution_count": null,
   "id": "cafca144-c3b9-400b-8b33-aa64d52b99cd",
   "metadata": {},
   "outputs": [],
   "source": []
  },
  {
   "cell_type": "code",
   "execution_count": null,
   "id": "579df350-1ddc-4d56-944c-cb86d457f59b",
   "metadata": {},
   "outputs": [],
   "source": []
  },
  {
   "cell_type": "code",
   "execution_count": null,
   "id": "f654842f-d687-4262-87d6-bc229c9a72f0",
   "metadata": {},
   "outputs": [],
   "source": []
  },
  {
   "cell_type": "code",
   "execution_count": null,
   "id": "acd25082-f210-45e2-9ad9-0d22343c2570",
   "metadata": {},
   "outputs": [],
   "source": []
  },
  {
   "cell_type": "code",
   "execution_count": null,
   "id": "8cfd5439-d53f-4cfd-90d0-27adefaf4908",
   "metadata": {},
   "outputs": [],
   "source": []
  },
  {
   "cell_type": "code",
   "execution_count": null,
   "id": "08c20550-1674-4392-bd90-de5f04bd41fe",
   "metadata": {},
   "outputs": [],
   "source": []
  },
  {
   "cell_type": "code",
   "execution_count": null,
   "id": "5b6fb30f-6fca-40ac-9243-91707325a2f1",
   "metadata": {},
   "outputs": [],
   "source": []
  },
  {
   "cell_type": "code",
   "execution_count": null,
   "id": "0715584b-3dcd-4f85-b458-7b897ff386be",
   "metadata": {},
   "outputs": [],
   "source": []
  },
  {
   "cell_type": "code",
   "execution_count": null,
   "id": "ea884316-0250-4ee0-b470-f20a4619b888",
   "metadata": {},
   "outputs": [],
   "source": []
  },
  {
   "cell_type": "code",
   "execution_count": null,
   "id": "7cb39428-c6b5-4fe2-95e5-899fbe18a7a7",
   "metadata": {},
   "outputs": [],
   "source": []
  },
  {
   "cell_type": "code",
   "execution_count": null,
   "id": "fa4aa27e-d31c-401e-bd18-0292c3b845c8",
   "metadata": {},
   "outputs": [],
   "source": []
  },
  {
   "cell_type": "code",
   "execution_count": null,
   "id": "48ce3be5-daef-4514-863e-5f0b8cd2a388",
   "metadata": {},
   "outputs": [],
   "source": []
  },
  {
   "cell_type": "code",
   "execution_count": null,
   "id": "9c2acc33-f97d-4f9e-86a3-c61a770f5547",
   "metadata": {},
   "outputs": [],
   "source": []
  },
  {
   "cell_type": "code",
   "execution_count": null,
   "id": "4bf6cc73-9631-497b-b52f-6367e381cc0a",
   "metadata": {},
   "outputs": [],
   "source": []
  },
  {
   "cell_type": "code",
   "execution_count": null,
   "id": "b650dfdd-bf9c-49cf-a912-90f14f53f7f0",
   "metadata": {},
   "outputs": [],
   "source": []
  },
  {
   "cell_type": "code",
   "execution_count": null,
   "id": "75614953-f093-478e-8ec3-046f51274011",
   "metadata": {},
   "outputs": [],
   "source": []
  },
  {
   "cell_type": "code",
   "execution_count": null,
   "id": "eed07bc1-b7af-475e-978d-1f84a72e260e",
   "metadata": {},
   "outputs": [],
   "source": []
  },
  {
   "cell_type": "code",
   "execution_count": null,
   "id": "ea2efd05-41a7-43b7-8c31-3f1d5366284d",
   "metadata": {},
   "outputs": [],
   "source": []
  },
  {
   "cell_type": "code",
   "execution_count": null,
   "id": "49045919-a804-4d20-a09e-227b7b5f0549",
   "metadata": {},
   "outputs": [],
   "source": []
  },
  {
   "cell_type": "markdown",
   "id": "f02c3ff0-8c61-4922-834b-099b236a50eb",
   "metadata": {},
   "source": [
    "## Conclusions and Bonus Workspace"
   ]
  },
  {
   "cell_type": "code",
   "execution_count": null,
   "id": "08f41f94-7acb-41f9-ab2a-8c8699a04b1c",
   "metadata": {},
   "outputs": [],
   "source": []
  },
  {
   "cell_type": "code",
   "execution_count": null,
   "id": "a239a81f-c896-42e9-856e-96a42dec9a88",
   "metadata": {},
   "outputs": [],
   "source": []
  },
  {
   "cell_type": "code",
   "execution_count": null,
   "id": "6b1b1b53-adb9-40b0-9f49-d780843a1f3f",
   "metadata": {},
   "outputs": [],
   "source": []
  },
  {
   "cell_type": "code",
   "execution_count": null,
   "id": "74bc7e00-2ac7-4089-b0c9-163a9b7a1cf9",
   "metadata": {},
   "outputs": [],
   "source": []
  },
  {
   "cell_type": "code",
   "execution_count": null,
   "id": "e4e4c3e1-2db0-44c2-9964-87665721d398",
   "metadata": {},
   "outputs": [],
   "source": []
  },
  {
   "cell_type": "code",
   "execution_count": null,
   "id": "4bb46b9a-66cf-454d-a997-4900f4cca092",
   "metadata": {},
   "outputs": [],
   "source": []
  },
  {
   "cell_type": "code",
   "execution_count": null,
   "id": "30993017-d738-40bb-99ce-af5f71c5e0aa",
   "metadata": {},
   "outputs": [],
   "source": []
  },
  {
   "cell_type": "code",
   "execution_count": null,
   "id": "757da04e-178d-4e96-a0f0-da603ae4b9f9",
   "metadata": {},
   "outputs": [],
   "source": []
  },
  {
   "cell_type": "code",
   "execution_count": null,
   "id": "f2e4683a-4354-4f77-b034-83e982293327",
   "metadata": {},
   "outputs": [],
   "source": []
  },
  {
   "cell_type": "code",
   "execution_count": null,
   "id": "bd518377-c548-47e4-bad3-db5446963936",
   "metadata": {},
   "outputs": [],
   "source": []
  },
  {
   "cell_type": "code",
   "execution_count": null,
   "id": "f726d188-d740-46fb-9305-b0a1f586feda",
   "metadata": {},
   "outputs": [],
   "source": []
  },
  {
   "cell_type": "code",
   "execution_count": null,
   "id": "9fb5abd9-7821-4f7f-8fb8-975966187137",
   "metadata": {},
   "outputs": [],
   "source": []
  },
  {
   "cell_type": "code",
   "execution_count": null,
   "id": "2e3550f2-316c-41f9-b579-cbdd26fbbe52",
   "metadata": {},
   "outputs": [],
   "source": []
  },
  {
   "cell_type": "code",
   "execution_count": null,
   "id": "0da697fc-ddea-4cab-bb24-9d5ecaea4bdd",
   "metadata": {},
   "outputs": [],
   "source": []
  },
  {
   "cell_type": "code",
   "execution_count": null,
   "id": "462f308c-042f-4f38-b361-5e1bc5dac81b",
   "metadata": {},
   "outputs": [],
   "source": []
  },
  {
   "cell_type": "code",
   "execution_count": null,
   "id": "51c1c145-4335-4cd7-b1bf-118f0387cd96",
   "metadata": {},
   "outputs": [],
   "source": []
  },
  {
   "cell_type": "code",
   "execution_count": null,
   "id": "139844f8-70e1-4a31-883e-1a8205f9d19e",
   "metadata": {},
   "outputs": [],
   "source": []
  },
  {
   "cell_type": "code",
   "execution_count": null,
   "id": "e79e5118-c3cc-4719-8951-0c38f138c526",
   "metadata": {},
   "outputs": [],
   "source": []
  },
  {
   "cell_type": "code",
   "execution_count": null,
   "id": "18a628de-0219-42e0-a8cc-28c826dc74b9",
   "metadata": {},
   "outputs": [],
   "source": []
  },
  {
   "cell_type": "code",
   "execution_count": null,
   "id": "1a924d60-a80d-4209-bfac-cae6b45f5b0e",
   "metadata": {},
   "outputs": [],
   "source": []
  },
  {
   "cell_type": "code",
   "execution_count": null,
   "id": "6163deb9-387a-4514-a9f4-5d181df380bd",
   "metadata": {},
   "outputs": [],
   "source": []
  },
  {
   "cell_type": "code",
   "execution_count": null,
   "id": "cc751704-1065-464c-8cbb-93cb724728d6",
   "metadata": {},
   "outputs": [],
   "source": []
  },
  {
   "cell_type": "code",
   "execution_count": null,
   "id": "933a9130-80e4-483b-987b-e6f056681887",
   "metadata": {},
   "outputs": [],
   "source": []
  },
  {
   "cell_type": "code",
   "execution_count": null,
   "id": "98705937-b8c0-4163-a18e-a1735110114d",
   "metadata": {},
   "outputs": [],
   "source": []
  },
  {
   "cell_type": "code",
   "execution_count": null,
   "id": "d378e0f1-1962-4641-b88c-838ed635aaf9",
   "metadata": {},
   "outputs": [],
   "source": []
  },
  {
   "cell_type": "code",
   "execution_count": null,
   "id": "50d2cbbe-e2d2-4e7b-b7e3-22e318e3288e",
   "metadata": {},
   "outputs": [],
   "source": []
  },
  {
   "cell_type": "code",
   "execution_count": null,
   "id": "6117f2ab-580c-464e-add1-e7ae5fae9aa7",
   "metadata": {},
   "outputs": [],
   "source": []
  },
  {
   "cell_type": "code",
   "execution_count": null,
   "id": "eb4023bf-05ed-4b4a-866f-def55214ce81",
   "metadata": {},
   "outputs": [],
   "source": []
  },
  {
   "cell_type": "code",
   "execution_count": null,
   "id": "f0318cbd-b4ae-47e7-9a66-cae9cb0ddf8a",
   "metadata": {},
   "outputs": [],
   "source": []
  },
  {
   "cell_type": "code",
   "execution_count": null,
   "id": "f3cb17d0-3b26-4271-8a68-8f3e235de095",
   "metadata": {},
   "outputs": [],
   "source": []
  },
  {
   "cell_type": "code",
   "execution_count": null,
   "id": "9b54506e-f206-40af-bfe9-1b6b479eed61",
   "metadata": {},
   "outputs": [],
   "source": []
  },
  {
   "cell_type": "code",
   "execution_count": null,
   "id": "6463170b-3fef-4730-8427-13110d4ddb00",
   "metadata": {},
   "outputs": [],
   "source": []
  },
  {
   "cell_type": "code",
   "execution_count": null,
   "id": "4ca85a90-0723-498c-988a-bc79b2cf50ae",
   "metadata": {},
   "outputs": [],
   "source": []
  },
  {
   "cell_type": "code",
   "execution_count": null,
   "id": "704a71f1-30b2-462c-b227-8db62877bcc7",
   "metadata": {},
   "outputs": [],
   "source": []
  },
  {
   "cell_type": "code",
   "execution_count": null,
   "id": "1314d9e4-49ad-4f5e-ab5c-388a36aa02cb",
   "metadata": {},
   "outputs": [],
   "source": []
  },
  {
   "cell_type": "code",
   "execution_count": null,
   "id": "9b66312f-e8aa-469f-bdf9-33ffe2410f32",
   "metadata": {},
   "outputs": [],
   "source": []
  },
  {
   "cell_type": "code",
   "execution_count": null,
   "id": "83635f7d-5482-4f68-ada3-2b26aedd9045",
   "metadata": {},
   "outputs": [],
   "source": []
  },
  {
   "cell_type": "code",
   "execution_count": null,
   "id": "c6f25637-e949-4560-aa2d-4c9b42f058cb",
   "metadata": {},
   "outputs": [],
   "source": []
  },
  {
   "cell_type": "code",
   "execution_count": null,
   "id": "e0d000c1-72bf-4cd4-b6d7-f32579144e84",
   "metadata": {},
   "outputs": [],
   "source": []
  },
  {
   "cell_type": "code",
   "execution_count": null,
   "id": "7e3b7d8d-fdc9-4514-92e3-00df9589034e",
   "metadata": {},
   "outputs": [],
   "source": []
  },
  {
   "cell_type": "code",
   "execution_count": null,
   "id": "19897cf4-e88b-480e-9bb1-4f5fd232ba4e",
   "metadata": {},
   "outputs": [],
   "source": []
  },
  {
   "cell_type": "code",
   "execution_count": null,
   "id": "6414e543-a9e2-4b42-b133-4135b8715d26",
   "metadata": {},
   "outputs": [],
   "source": []
  },
  {
   "cell_type": "code",
   "execution_count": null,
   "id": "087fe2e2-9d6b-4a8b-b6c6-4c9fdaa4594a",
   "metadata": {},
   "outputs": [],
   "source": []
  },
  {
   "cell_type": "code",
   "execution_count": null,
   "id": "21efa2ca-1231-40f9-8979-7e00c22aa0a3",
   "metadata": {},
   "outputs": [],
   "source": []
  },
  {
   "cell_type": "code",
   "execution_count": null,
   "id": "be20431f-845e-422c-8740-456f4ab83621",
   "metadata": {},
   "outputs": [],
   "source": []
  },
  {
   "cell_type": "code",
   "execution_count": null,
   "id": "3a051467-b238-44a8-bad4-e7a99643b878",
   "metadata": {},
   "outputs": [],
   "source": []
  },
  {
   "cell_type": "code",
   "execution_count": null,
   "id": "8767469a-b64e-4ff8-8673-2f0118a2c2d8",
   "metadata": {},
   "outputs": [],
   "source": []
  },
  {
   "cell_type": "code",
   "execution_count": null,
   "id": "963c3be6-24d8-4d66-9cc8-b4ad4d4f33c4",
   "metadata": {},
   "outputs": [],
   "source": []
  },
  {
   "cell_type": "code",
   "execution_count": null,
   "id": "5bbc965e-aa9c-4236-9718-53f2c055808a",
   "metadata": {},
   "outputs": [],
   "source": []
  },
  {
   "cell_type": "code",
   "execution_count": null,
   "id": "221c0b12-fda5-4ce6-a3d9-57735a852b3c",
   "metadata": {},
   "outputs": [],
   "source": []
  },
  {
   "cell_type": "code",
   "execution_count": null,
   "id": "7ef6be7b-bcd3-49c1-922c-2d01e7ba1ae2",
   "metadata": {},
   "outputs": [],
   "source": []
  },
  {
   "cell_type": "code",
   "execution_count": null,
   "id": "8e56b549-2d2b-4f5d-9e2f-6503bbfb2d0d",
   "metadata": {},
   "outputs": [],
   "source": []
  },
  {
   "cell_type": "code",
   "execution_count": null,
   "id": "1c231f3a-596a-4f93-8624-6e023759e7e2",
   "metadata": {},
   "outputs": [],
   "source": []
  },
  {
   "cell_type": "code",
   "execution_count": null,
   "id": "2b737905-ea93-4e64-a385-69827c668572",
   "metadata": {},
   "outputs": [],
   "source": []
  },
  {
   "cell_type": "code",
   "execution_count": null,
   "id": "95af9988-f3bb-4cfe-8efa-a9001fa86060",
   "metadata": {},
   "outputs": [],
   "source": []
  },
  {
   "cell_type": "code",
   "execution_count": null,
   "id": "26364cee-f9cf-4371-a745-07caf19a1bed",
   "metadata": {},
   "outputs": [],
   "source": []
  },
  {
   "cell_type": "code",
   "execution_count": null,
   "id": "bfc6e6ee-413f-4e3a-ae4b-a73aad77e555",
   "metadata": {},
   "outputs": [],
   "source": []
  },
  {
   "cell_type": "code",
   "execution_count": null,
   "id": "bd261d36-cc23-4719-8463-9b4e97eb6b2c",
   "metadata": {},
   "outputs": [],
   "source": []
  },
  {
   "cell_type": "code",
   "execution_count": null,
   "id": "c45b9a35-ebc5-492b-93ba-c10827d1704c",
   "metadata": {},
   "outputs": [],
   "source": []
  },
  {
   "cell_type": "code",
   "execution_count": null,
   "id": "129fe95b-8507-490c-a06f-8f47014a97f7",
   "metadata": {},
   "outputs": [],
   "source": []
  },
  {
   "cell_type": "code",
   "execution_count": null,
   "id": "714de72b-d801-4212-9e77-87863e632430",
   "metadata": {},
   "outputs": [],
   "source": []
  },
  {
   "cell_type": "code",
   "execution_count": null,
   "id": "1caf7f9c-26a8-4454-b469-76249451ffae",
   "metadata": {},
   "outputs": [],
   "source": []
  },
  {
   "cell_type": "code",
   "execution_count": null,
   "id": "db240a5d-17b9-40de-8a3d-634286933ece",
   "metadata": {},
   "outputs": [],
   "source": []
  },
  {
   "cell_type": "code",
   "execution_count": null,
   "id": "d2ae167c-806b-4843-beff-c3646bb9331f",
   "metadata": {},
   "outputs": [],
   "source": []
  },
  {
   "cell_type": "code",
   "execution_count": null,
   "id": "ef8cc04c-0c5c-4d8c-84b3-da70dfec35fc",
   "metadata": {},
   "outputs": [],
   "source": []
  },
  {
   "cell_type": "code",
   "execution_count": null,
   "id": "dff7b972-0b3f-4aac-8fde-acfb6e9a8da7",
   "metadata": {},
   "outputs": [],
   "source": []
  },
  {
   "cell_type": "code",
   "execution_count": null,
   "id": "9f9ca168-c90c-47a5-9be2-d409251d855c",
   "metadata": {},
   "outputs": [],
   "source": []
  },
  {
   "cell_type": "code",
   "execution_count": null,
   "id": "b73e0988-f242-4a24-a90a-0c7031c989d5",
   "metadata": {},
   "outputs": [],
   "source": []
  },
  {
   "cell_type": "code",
   "execution_count": null,
   "id": "960b4e9e-65c2-4bb8-a8b5-0c342bf9c626",
   "metadata": {},
   "outputs": [],
   "source": []
  },
  {
   "cell_type": "code",
   "execution_count": null,
   "id": "62e81879-c742-4d90-a109-cb108a9dabb3",
   "metadata": {},
   "outputs": [],
   "source": []
  },
  {
   "cell_type": "code",
   "execution_count": null,
   "id": "788d5a6e-7294-47ab-be81-60c90058fe93",
   "metadata": {},
   "outputs": [],
   "source": []
  },
  {
   "cell_type": "code",
   "execution_count": null,
   "id": "5d2ac75d-3e1e-4ded-b5b6-9af18e805c81",
   "metadata": {},
   "outputs": [],
   "source": []
  }
 ],
 "metadata": {
  "kernelspec": {
   "display_name": "Python 3 (ipykernel)",
   "language": "python",
   "name": "python3"
  },
  "language_info": {
   "codemirror_mode": {
    "name": "ipython",
    "version": 3
   },
   "file_extension": ".py",
   "mimetype": "text/x-python",
   "name": "python",
   "nbconvert_exporter": "python",
   "pygments_lexer": "ipython3",
   "version": "3.12.3"
  }
 },
 "nbformat": 4,
 "nbformat_minor": 5
}
